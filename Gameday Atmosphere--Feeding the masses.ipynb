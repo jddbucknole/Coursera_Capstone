{
 "cells": [
  {
   "cell_type": "markdown",
   "metadata": {},
   "source": [
    "# Gameday Atmosphere: Feeding the masses"
   ]
  },
  {
   "cell_type": "markdown",
   "metadata": {},
   "source": [
    "## Introduction/Business Problem"
   ]
  },
  {
   "cell_type": "markdown",
   "metadata": {},
   "source": [
    "Football Saturdays on American college campuses are always crazy, exciting events with great potential for restauranteurs to satisfy.  While there are many similarities in a variety of 'College towns', there may be some opportunities to bring variety to the gameday experience. Potentially hundreds of thousands of fans converge on these towns for the opportunity to see their team ride to victory, and we're here to make sure they are well fed.\n",
    "\n",
    "Our company has recognized an opportunity at THE Ohio State University and desires to find what the Buckeye faithful may be missing to supplement their gameday experience.  This project will explore the 120 Division I NCAA stadiums and the surrounding area to characterize the gameday environment.  We will then cluster the stadium environments by size of the stadium as well as the venues in the vicinity with special focus on bars and restaurants.  Once the cities/stadiums are clustered, we will more closely explore the 'cluster' for Ohio State and find potential opportunities for growth rather that be in variety (what do similar teams have that we don't?) or rating (are the current local establishments rated low providing opportunity to acquire business?).  \n",
    "\n",
    "All in all, this project will examine the collegiate gameday environments in total to find if the similarities are more due to geographic location, conference affiliation, city size, or prestige of the football team.  This analysis provides a deeper dive into understanding the underlying ecosystem of businesses surrounding college campuses."
   ]
  },
  {
   "cell_type": "markdown",
   "metadata": {},
   "source": [
    "## Data"
   ]
  },
  {
   "cell_type": "markdown",
   "metadata": {},
   "source": [
    "The data for this project comes from Wikipedia (https://en.wikipedia.org/wiki/List_of_NCAA_Division_I_FBS_football_stadiums) containing the location, construction year, and capacity of all 120 FBS NCAA football stadiums. While additional information concerning the team and type of turf is provided, that information will not be used to cluster.  However, conference affiliation will be used in examining the clusters after fitting the model to see if conference is related to the gameday enviroment.  The population of each of the college towns will be collected via OpenDataSoft API. This data will also be used to create an interactive map to explore the distribution of collegiate environments in the United States.\n",
    "\n",
    "Finally, the stadium/location data will be joined with detailed information from foursquare to explore venues near the stadia as well as discover rating information. Foursquare provides information about the venues in the surrounding areas of the stadium.  The focus will be on venue types related to entertainment on gameday (restaurants and bars, primarily).  The crowd-source app also contains rating information that will be utilized to determine the quality of said restaurants in looking for a niche to fill.\n",
    "\n"
   ]
  }
 ],
 "metadata": {
  "kernelspec": {
   "display_name": "Python 3",
   "language": "python",
   "name": "python3"
  },
  "language_info": {
   "codemirror_mode": {
    "name": "ipython",
    "version": 3
   },
   "file_extension": ".py",
   "mimetype": "text/x-python",
   "name": "python",
   "nbconvert_exporter": "python",
   "pygments_lexer": "ipython3",
   "version": "3.7.6"
  }
 },
 "nbformat": 4,
 "nbformat_minor": 4
}
