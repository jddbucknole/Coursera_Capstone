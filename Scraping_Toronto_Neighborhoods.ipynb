{
 "cells": [
  {
   "cell_type": "markdown",
   "metadata": {},
   "source": [
    "This notebook will be used for the capstone project for the Applied Data Science course in the IBM Coursera track."
   ]
  },
  {
   "cell_type": "code",
   "execution_count": 7,
   "metadata": {},
   "outputs": [],
   "source": [
    "import pandas as pd\n",
    "import numpy as np"
   ]
  },
  {
   "cell_type": "markdown",
   "metadata": {},
   "source": [
    "First, We will scrape the data of postal codes of Toronto neighborhoods from wikipedia. We will start by retrieving the table information using the BeautifulSoup package."
   ]
  },
  {
   "cell_type": "code",
   "execution_count": 8,
   "metadata": {},
   "outputs": [],
   "source": [
    "import urllib.request\n",
    "url = 'https://en.wikipedia.org/wiki/List_of_postal_codes_of_Canada:_M'\n",
    "page = urllib.request.urlopen(url)\n",
    "from bs4 import BeautifulSoup\n",
    "soup = BeautifulSoup(page, \"lxml\")\n",
    "#print(soup.prettify())\n",
    "right_table=soup.find('table', class_='wikitable sortable')"
   ]
  },
  {
   "cell_type": "markdown",
   "metadata": {},
   "source": [
    "Next, we will initialize empty lists for each column and iterate over the rows to accumulate the data.  Rows with Borough as 'Not assigned' are ignored.  If the Neighborhood is 'Not Assigned', the Neighborhood is listed as the Borough.  "
   ]
  },
  {
   "cell_type": "code",
   "execution_count": 9,
   "metadata": {},
   "outputs": [],
   "source": [
    "A=[]\n",
    "B=[]\n",
    "C=[]\n",
    "\n",
    "\n",
    "for row in right_table.findAll('tr'):\n",
    "    cells=row.findAll('td')\n",
    "    if len(cells)==3 and cells[1].find(text = True).rstrip() != \"Not assigned\":\n",
    "        A.append(cells[0].find(text=True).rstrip())\n",
    "        B.append(cells[1].find(text=True).rstrip()) \n",
    "        if cells[2].find(text = True).rstrip() == 'Not assigned':\n",
    "            C.append(cells[1].find(text=True).rstrip())\n",
    "        else:\n",
    "            C.append(cells[2].find(text=True).rstrip()) \n"
   ]
  },
  {
   "cell_type": "markdown",
   "metadata": {},
   "source": [
    "Finally, the data is read into a pandas dataframe and cleaned.  The '/' is replaced with a ',' in the Neighborhood column."
   ]
  },
  {
   "cell_type": "code",
   "execution_count": 12,
   "metadata": {},
   "outputs": [
    {
     "name": "stdout",
     "output_type": "stream",
     "text": [
      "    PostalCode           Borough  \\\n",
      "0          M3A        North York   \n",
      "1          M4A        North York   \n",
      "2          M5A  Downtown Toronto   \n",
      "3          M6A        North York   \n",
      "4          M7A  Downtown Toronto   \n",
      "..         ...               ...   \n",
      "98         M8X         Etobicoke   \n",
      "99         M4Y  Downtown Toronto   \n",
      "100        M7Y      East Toronto   \n",
      "101        M8Y         Etobicoke   \n",
      "102        M8Z         Etobicoke   \n",
      "\n",
      "                                          Neighborhood  \n",
      "0                                            Parkwoods  \n",
      "1                                     Victoria Village  \n",
      "2                            Regent Park, Harbourfront  \n",
      "3                     Lawrence Manor, Lawrence Heights  \n",
      "4          Queen's Park, Ontario Provincial Government  \n",
      "..                                                 ...  \n",
      "98      The Kingsway, Montgomery Road , Old Mill North  \n",
      "99                                Church and Wellesley  \n",
      "100              Business reply mail Processing CentrE  \n",
      "101  Old Mill South, King's Mill Park, Sunnylea, Hu...  \n",
      "102  Mimico NW, The Queensway West, South of Bloor,...  \n",
      "\n",
      "[103 rows x 3 columns]\n"
     ]
    }
   ],
   "source": [
    "df=pd.DataFrame(A,columns=['PostalCode'])\n",
    "df['Borough']=B\n",
    "df['Neighborhood']=C\n",
    "\n",
    "df['Neighborhood'] = df['Neighborhood'].str.replace(' / ',', ')\n",
    "print(df)"
   ]
  },
  {
   "cell_type": "markdown",
   "metadata": {},
   "source": [
    "The shape/dimensions are shown below"
   ]
  },
  {
   "cell_type": "code",
   "execution_count": 13,
   "metadata": {},
   "outputs": [
    {
     "data": {
      "text/plain": [
       "(103, 3)"
      ]
     },
     "execution_count": 13,
     "metadata": {},
     "output_type": "execute_result"
    }
   ],
   "source": [
    "df.shape"
   ]
  },
  {
   "cell_type": "code",
   "execution_count": null,
   "metadata": {},
   "outputs": [],
   "source": []
  }
 ],
 "metadata": {
  "kernelspec": {
   "display_name": "Python 3",
   "language": "python",
   "name": "python3"
  },
  "language_info": {
   "codemirror_mode": {
    "name": "ipython",
    "version": 3
   },
   "file_extension": ".py",
   "mimetype": "text/x-python",
   "name": "python",
   "nbconvert_exporter": "python",
   "pygments_lexer": "ipython3",
   "version": "3.7.6"
  }
 },
 "nbformat": 4,
 "nbformat_minor": 4
}
